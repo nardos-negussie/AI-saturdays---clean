{
 "cells": [
  {
   "cell_type": "code",
   "execution_count": 1,
   "metadata": {},
   "outputs": [],
   "source": [
    "from PIL import Image\n",
    "import glob\n",
    "import numpy as np"
   ]
  },
  {
   "cell_type": "code",
   "execution_count": 2,
   "metadata": {},
   "outputs": [],
   "source": [
    "def one_hot(Y, num_classes):\n",
    "        tem = []\n",
    "        for i in range(Y.shape[0]):\n",
    "            tem.append(np.eye(num_classes)[:,Y[i]].reshape(-1,1))\n",
    "        return np.array(tem).reshape(np.array(tem).shape[0],-1)\n",
    "\n",
    "    \n",
    "def loadd(path):\n",
    "    all_files = glob.glob(path + '/*/*.jpg')\n",
    "    X = []\n",
    "    Y = []\n",
    "    for i in all_files:\n",
    "        #read in grayscale and convert to numpy array\n",
    "        X.append(np.array(Image.Image.convert(Image.open(i), 'L')))\n",
    "        Y.append(int(i.split('/')[2]))\n",
    "    \n",
    "    X[71]= X[71][:438,:]\n",
    "    X = np.array(X).reshape(np.array(X).shape[0],-1)\n",
    "    Y = one_hot(np.array(Y),14)\n",
    "    return X, Y\n",
    "\n",
    "\n"
   ]
  },
  {
   "cell_type": "code",
   "execution_count": 3,
   "metadata": {},
   "outputs": [
    {
     "name": "stdout",
     "output_type": "stream",
     "text": [
      "((411, 315360), (411, 14))\n",
      "((85, 315360), (85, 14))\n"
     ]
    }
   ],
   "source": [
    "path_train = 'un_resized_images/fidels'\n",
    "path_test = 'un_resized_images/fidels_test/'\n",
    "X, Y = loadd(path_train)\n",
    "Xt, Yt = loadd(path_test)\n",
    "\n",
    "\n",
    "print(X.shape, Y.shape)\n",
    "print(Xt.shape, Yt.shape)"
   ]
  },
  {
   "cell_type": "code",
   "execution_count": 321,
   "metadata": {},
   "outputs": [],
   "source": [
    "class log_model():\n",
    "    def __init__(self, x, num_classes):\n",
    "        self.weights = np.zeros((x.shape[1],num_classes))\n",
    "        self.biases = np.zeros((num_classes,1))\n",
    "    \n",
    " \n",
    "    def forward(self, x):\n",
    "        #print('X:',x.shape, 'w:',self.weights.shape, 'b:',self.biases.shape)\n",
    "        ret = np.matmul(self.weights.T, x.T) + self.biases\n",
    "        #print(\"forward: \", ret.shape)\n",
    "        return ret \n",
    "    \n",
    "    \n",
    "    def softmax(self, forward):\n",
    "        forward -= np.max(forward, axis=0)\n",
    "        ret = np.exp(forward) / (np.sum(np.exp(forward), axis=0))\n",
    "        #print(\"softmax: \", ret.shape)\n",
    "        return ret\n",
    "    \n",
    "    \n",
    "    def loss(self, softmax, y):\n",
    "        ret = -np.sum(np.multiply(y.T,np.log(softmax+0.001)))\n",
    "        #print(\"loss: \", ret)\n",
    "        \n",
    "        return ret\n",
    "    \n",
    "    \n",
    "    def optimize(self, a, x, y):\n",
    "        #print(\"soft:\",a.shape, \"y:\", y.shape)\n",
    "        derivative = np.subtract(a.T, y)\n",
    "        #print(\"der:\",derivative.shape)\n",
    "        #print('dw.shape',np.dot(x.T,derivative).shape)\n",
    "        dw = np.dot(x.T,derivative)\n",
    "        #print('db.shape',np.sum(derivative, axis=0).shape)\n",
    "        db = np.sum(derivative, axis=0).reshape(-1,1)\n",
    "        #print(\"dw:\\n \", dw)\n",
    "        #print(\"db: \\n\", db)\n",
    "        \n",
    "        return dw, db \n",
    "  \n",
    "\n",
    "    def update(self,lr, dw, db):\n",
    "        #print(loss)\n",
    "        self.weights -= np.multiply(lr,dw)\n",
    "        self.biases -= np.multiply(lr,db)\n",
    "         #print(\"updated w: \\n\", self.weights)\n",
    "        #print(\"updated b: \\n\", self.biases)\n",
    "    \n",
    "    def train(self, X, Y, lr, iteration):\n",
    "        accuracy= 0\n",
    "        for i in range(iteration):\n",
    "            forward = self.forward(X)\n",
    "            softmax = self.softmax(forward)\n",
    "            loss = self.loss(softmax, Y)\n",
    "            dw, db = self.optimize(softmax, X, Y)\n",
    "            self.update(lr,dw, db)\n",
    "            print('iteration:', i,'--loss=', loss)\n",
    "            \n",
    "            accuracy = np.equal(np.argmax(Y.T, axis=-1), np.argmax(softmax, axis=-1)).mean()\n",
    "            \n",
    "        #print('w:',self.weights, 'b:', self.biases)\n",
    "        print('Train accuracy: ', accuracy*100, '%')\n",
    "         \n",
    "        return self.weights, self.biases\n",
    "    def test(self, Xt, Yt):\n",
    "        #print(Xt.shape, Yt.T.shape)\n",
    "        #Xt = Xt[:2,:]\n",
    "        #Yt = Yt[:2,:]\n",
    "        #print(Xt.shape, Yt.T.shape)\n",
    "        accuracy = 0\n",
    "        prediction = self.softmax(self.forward(Xt)).T\n",
    "        #print(Yt.shape, prediction.shape)\n",
    "        accuracy = np.equal(np.argmax(Yt, axis=-1), np.argmax(prediction, axis=-1)).mean()\n",
    "        print('Done!')\n",
    "        print('Accuracy: ', accuracy*100, '%')\n",
    "   \n",
    "    "
   ]
  },
  {
   "cell_type": "code",
   "execution_count": 322,
   "metadata": {
    "scrolled": true
   },
   "outputs": [
    {
     "name": "stdout",
     "output_type": "stream",
     "text": [
      "('iteration:', 0, '--loss=', 1078.9384684474157)\n",
      "('iteration:', 1, '--loss=', 365.7532086668093)\n",
      "('iteration:', 2, '--loss=', 358.84445388749407)\n",
      "('iteration:', 3, '--loss=', 434.84075645996154)\n",
      "('iteration:', 4, '--loss=', 144.67305572872235)\n",
      "('iteration:', 5, '--loss=', 6.497960142417932)\n",
      "('Train accuracy: ', 92.85714285714286, '%')\n"
     ]
    }
   ],
   "source": [
    "num_classes = 14\n",
    "log = log_model(X, num_classes)\n",
    "w,b = log.train(X, Y, 0.002, 6)"
   ]
  },
  {
   "cell_type": "code",
   "execution_count": 323,
   "metadata": {},
   "outputs": [
    {
     "name": "stdout",
     "output_type": "stream",
     "text": [
      "Done!\n",
      "('Accuracy: ', 25.882352941176475, '%')\n"
     ]
    }
   ],
   "source": [
    "log.test(Xt, Yt)"
   ]
  }
 ],
 "metadata": {
  "kernelspec": {
   "display_name": "Python 3",
   "language": "python",
   "name": "python3"
  },
  "language_info": {
   "codemirror_mode": {
    "name": "ipython",
    "version": 2
   },
   "file_extension": ".py",
   "mimetype": "text/x-python",
   "name": "python",
   "nbconvert_exporter": "python",
   "pygments_lexer": "ipython2",
   "version": "2.7.13"
  }
 },
 "nbformat": 4,
 "nbformat_minor": 2
}
